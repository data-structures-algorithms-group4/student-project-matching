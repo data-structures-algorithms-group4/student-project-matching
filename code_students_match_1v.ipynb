{
 "cells": [
  {
   "cell_type": "code",
   "execution_count": 14,
   "id": "b7ad701c-2cde-4770-93e2-83aa5431daa2",
   "metadata": {
    "ExecuteTime": {
     "end_time": "2024-02-25T21:46:37.901877Z",
     "start_time": "2024-02-25T21:46:37.828494Z"
    }
   },
   "outputs": [],
   "source": [
    "import pandas as pd\n",
    "import openpyxl as px\n",
    "from collections import defaultdict"
   ]
  },
  {
   "cell_type": "code",
   "execution_count": 15,
   "id": "07ff30c7-6def-48d8-bbf5-8ee5aad6caa1",
   "metadata": {
    "scrolled": true,
    "ExecuteTime": {
     "end_time": "2024-02-25T21:46:39.868116Z",
     "start_time": "2024-02-25T21:46:39.846688Z"
    }
   },
   "outputs": [
    {
     "data": {
      "text/plain": "  student_names 1st_choice 2nd_choice 3rd_choice\n0            s1         p3         p1         p2\n1            s2         p1         p3         p2\n2            s3         p2         p3         p1\n3            s4         p3         p2         p1\n4            s5         p1         p2         p3\n5            s6         p3         p1         p2\n6            s7         p2         p3         p1\n7            s8         p1         p3         p2\n8            s9         p2         p3         p1",
      "text/html": "<div>\n<style scoped>\n    .dataframe tbody tr th:only-of-type {\n        vertical-align: middle;\n    }\n\n    .dataframe tbody tr th {\n        vertical-align: top;\n    }\n\n    .dataframe thead th {\n        text-align: right;\n    }\n</style>\n<table border=\"1\" class=\"dataframe\">\n  <thead>\n    <tr style=\"text-align: right;\">\n      <th></th>\n      <th>student_names</th>\n      <th>1st_choice</th>\n      <th>2nd_choice</th>\n      <th>3rd_choice</th>\n    </tr>\n  </thead>\n  <tbody>\n    <tr>\n      <th>0</th>\n      <td>s1</td>\n      <td>p3</td>\n      <td>p1</td>\n      <td>p2</td>\n    </tr>\n    <tr>\n      <th>1</th>\n      <td>s2</td>\n      <td>p1</td>\n      <td>p3</td>\n      <td>p2</td>\n    </tr>\n    <tr>\n      <th>2</th>\n      <td>s3</td>\n      <td>p2</td>\n      <td>p3</td>\n      <td>p1</td>\n    </tr>\n    <tr>\n      <th>3</th>\n      <td>s4</td>\n      <td>p3</td>\n      <td>p2</td>\n      <td>p1</td>\n    </tr>\n    <tr>\n      <th>4</th>\n      <td>s5</td>\n      <td>p1</td>\n      <td>p2</td>\n      <td>p3</td>\n    </tr>\n    <tr>\n      <th>5</th>\n      <td>s6</td>\n      <td>p3</td>\n      <td>p1</td>\n      <td>p2</td>\n    </tr>\n    <tr>\n      <th>6</th>\n      <td>s7</td>\n      <td>p2</td>\n      <td>p3</td>\n      <td>p1</td>\n    </tr>\n    <tr>\n      <th>7</th>\n      <td>s8</td>\n      <td>p1</td>\n      <td>p3</td>\n      <td>p2</td>\n    </tr>\n    <tr>\n      <th>8</th>\n      <td>s9</td>\n      <td>p2</td>\n      <td>p3</td>\n      <td>p1</td>\n    </tr>\n  </tbody>\n</table>\n</div>"
     },
     "execution_count": 15,
     "metadata": {},
     "output_type": "execute_result"
    }
   ],
   "source": [
    "file_path = \"test_data/td_1_students.xlsx\"\n",
    "df = pd.read_excel(file_path)\n",
    "df"
   ]
  },
  {
   "cell_type": "markdown",
   "id": "e665464a-9fe8-4409-805d-c002924ffbf7",
   "metadata": {},
   "source": [
    "Example of engagement"
   ]
  },
  {
   "cell_type": "code",
   "execution_count": 16,
   "id": "863a0a13-0928-47ba-a1a3-c82276e2a505",
   "metadata": {
    "ExecuteTime": {
     "end_time": "2024-02-25T21:47:00.257511Z",
     "start_time": "2024-02-25T21:47:00.254985Z"
    }
   },
   "outputs": [
    {
     "name": "stdout",
     "output_type": "stream",
     "text": [
      "Mike is no longer a free man and is tentatively engaged to Rachel !\n",
      "Harvey is no longer a free man and is tentatively engaged to Donna !\n",
      "Louis is no longer a free man and is tentatively engaged to Sheila !\n",
      "Logan is no longer a free man and is tentatively engaged to Katrina !\n",
      "\n",
      " \n",
      "Stable Matching Finished ! Happy engagement !\n",
      "Mike is engaged to Rachel !\n",
      "Harvey is engaged to Donna !\n",
      "Louis is engaged to Sheila !\n",
      "Logan is engaged to Katrina !\n"
     ]
    }
   ],
   "source": [
    "# Initialization\n",
    "Men = ['Mike', 'Harvey', 'Louis', 'Logan']\n",
    "Women = ['Rachel', 'Donna', 'Katrina', 'Sheila']\n",
    "\n",
    "# Preferences\n",
    "Men_Pref = {  # indicates the preferences of the men\n",
    "    'Mike':   ['Rachel', 'Katrina', 'Donna', 'Sheila'],\n",
    "    'Harvey': ['Donna', 'Katrina', 'Rachel', 'Sheila'],\n",
    "    'Louis':  ['Sheila', 'Donna', 'Katrina', 'Rachel'],\n",
    "    'Logan':  ['Rachel', 'Katrina', 'Donna', 'Sheila']\n",
    "}\n",
    "\n",
    "Women_Pref = {  # indicates the preferences of the women\n",
    "    'Rachel':  ['Mike', 'Logan', 'Harvey', 'Louis'],\n",
    "    'Donna':   ['Harvey', 'Louis', 'Mike', 'Logan'],\n",
    "    'Katrina': ['Mike', 'Harvey', 'Louis', 'Logan'],\n",
    "    'Sheila':  ['Louis', 'Logan', 'Harvey', 'Mike']\n",
    "}\n",
    "def main():\n",
    "    Men_Free = list(Men)\n",
    "    Women_Free = list(Women)\n",
    "\n",
    "    # Part 3: Proposal\n",
    "    Matches = {\n",
    "        'Mike':  '',\n",
    "        'Harvey': '',\n",
    "        'Louis': '',\n",
    "        'Logan': ''\n",
    "        }\n",
    "    key_list = list(Matches.keys())\n",
    "\n",
    "    # the algorithm\n",
    "\n",
    "    while len(Men_Free) > 0:\n",
    "        for man in key_list:\n",
    "            for woman in Men_Pref[man]:\n",
    "                if woman not in list(Matches.values()):\n",
    "                    Matches[man] = woman\n",
    "                    Men_Free.remove(man)\n",
    "                    print('{} is no longer a free man and is tentatively engaged to {} !'.format(man, woman))\n",
    "                    break\n",
    "                elif woman in list(Matches.values()):\n",
    "                    current_suitor = list(Matches.keys())[list(Matches.values()).index(woman)]\n",
    "                    w_list = Women_Pref.get(woman)\n",
    "                    if w_list.index(man) < w_list.index(current_suitor):\n",
    "                        Matches[man] = woman\n",
    "                        Men_Free.remove(man)\n",
    "                        Matches[current_suitor] = ''\n",
    "                        Men_Free.append(current_suitor)\n",
    "                        print('{} was earlier engaged to {} but now is engaged to {}! '.format(woman, current_suitor, man))\n",
    "\n",
    "    print('\\n ')\n",
    "    print('Stable Matching Finished ! Happy engagement !')\n",
    "    for man in Matches.keys():\n",
    "        print('{} is engaged to {} !'.format(man, Matches[man]))\n",
    "\n",
    "\n",
    "if __name__ == \"__main__\":\n",
    "    main()"
   ]
  },
  {
   "cell_type": "markdown",
   "id": "cfa7eb54-80ac-4e73-95f8-2987d0b10192",
   "metadata": {},
   "source": [
    "Final example"
   ]
  },
  {
   "cell_type": "code",
   "execution_count": 17,
   "id": "24ade821-0266-4c0a-afd9-616a6cd38d84",
   "metadata": {
    "ExecuteTime": {
     "end_time": "2024-02-25T21:47:04.981103Z",
     "start_time": "2024-02-25T21:47:04.977108Z"
    }
   },
   "outputs": [
    {
     "name": "stdout",
     "output_type": "stream",
     "text": [
      "s1 is tentatively engaged to p3!\n",
      "s2 is tentatively engaged to p1!\n",
      "s3 is tentatively engaged to p2!\n",
      "s4 is tentatively engaged to p3!\n",
      "s5 is tentatively engaged to p1!\n",
      "s6 is tentatively engaged to p3!\n",
      "s7 is tentatively engaged to p2!\n",
      "s8 is tentatively engaged to p1!\n",
      "s9 is tentatively engaged to p2!\n",
      "\n",
      "Stable Matching Finished! Happy engagement!\n",
      "s1 is engaged to p3!\n",
      "s2 is engaged to p1!\n",
      "s3 is engaged to p2!\n",
      "s4 is engaged to p3!\n",
      "s5 is engaged to p1!\n",
      "s6 is engaged to p3!\n",
      "s7 is engaged to p2!\n",
      "s8 is engaged to p1!\n",
      "s9 is engaged to p2!\n"
     ]
    }
   ],
   "source": [
    "# Extracting student names and their choices\n",
    "students = df['student_names'].tolist()\n",
    "choices = df[['1st_choice', '2nd_choice', '3rd_choice']].values.tolist()\n",
    "\n",
    "# Building preference dictionary\n",
    "preferences = {}\n",
    "for i, student in enumerate(students):\n",
    "    preferences[student] = choices[i]\n",
    "\n",
    "def main():\n",
    "    # Initialize availability of choices and matches\n",
    "    available_choices = defaultdict(int)  # To count the number of students assigned to each choice\n",
    "    Matches = {}\n",
    "\n",
    "    # the algorithm\n",
    "    for student in students:\n",
    "        for choice in preferences[student]:\n",
    "            if available_choices[choice] < 3:  # Limiting each choice to three students\n",
    "                Matches[student] = choice\n",
    "                available_choices[choice] += 1\n",
    "                print('{} is tentatively engaged to {}!'.format(student, choice))\n",
    "                break\n",
    "\n",
    "    print('\\nStable Matching Finished! Happy engagement!')\n",
    "    \n",
    "    # Display matches for all students\n",
    "    for student, choice in Matches.items():\n",
    "        print('{} is engaged to {}!'.format(student, choice))\n",
    "\n",
    "if __name__ == \"__main__\":\n",
    "    main()"
   ]
  }
 ],
 "metadata": {
  "kernelspec": {
   "display_name": "Python 3 (ipykernel)",
   "language": "python",
   "name": "python3"
  },
  "language_info": {
   "codemirror_mode": {
    "name": "ipython",
    "version": 3
   },
   "file_extension": ".py",
   "mimetype": "text/x-python",
   "name": "python",
   "nbconvert_exporter": "python",
   "pygments_lexer": "ipython3",
   "version": "3.11.5"
  }
 },
 "nbformat": 4,
 "nbformat_minor": 5
}
