{
 "cells": [
  {
   "cell_type": "markdown",
   "source": [
    "Starting from Anzhelika's initial code and some help provided by ChatGPT for the actual code production, this code should be able to consider projects' capacity and deal with over-subscription as required by the stable matching problem.  \n",
    "\n",
    "Remember: stable matching mechanism ensures that no pair of student and project would prefer each other over their current matches.  \n"
   ],
   "metadata": {
    "collapsed": false
   },
   "id": "b14861e97be25f1b"
  },
  {
   "cell_type": "code",
   "execution_count": 1,
   "id": "initial_id",
   "metadata": {
    "collapsed": true,
    "ExecuteTime": {
     "end_time": "2024-02-25T22:09:12.001084Z",
     "start_time": "2024-02-25T22:09:11.736504Z"
    }
   },
   "outputs": [],
   "source": [
    "import pandas as pd\n",
    "from collections import defaultdict"
   ]
  },
  {
   "cell_type": "code",
   "outputs": [],
   "source": [
    "# Preparation:\n",
    "\n",
    "# Read excel files containing the student and project data\n",
    "# 'students_df' contains student names and their project preferences\n",
    "# 'projects_df' contains project names, their capacities, and preferences for students\n",
    "students_df = pd.read_excel('test_data/td_1_students.xlsx')  \n",
    "projects_df = pd.read_excel('test_data/td_1_projects.xlsx')  \n",
    "\n",
    "# Initialize data structures for the algorithm:\n",
    "# 'students' list contains the names of all students\n",
    "# 'projects' list contains the names of all projects\n",
    "# 'project_capacity' maps each project to its maximum student capacity\n",
    "students = students_df['student_names'].tolist()\n",
    "projects = projects_df['project_name'].tolist()\n",
    "project_capacity = projects_df.set_index('project_name')['max_students'].to_dict()\n",
    "\n",
    "# Preferences setup:\n",
    "# 'student_prefs' maps each student to a list of their project preferences\n",
    "# 'project_prefs' maps each project to a list of their preferred students\n",
    "student_prefs = {row['student_names']: row[['1st_choice', '2nd_choice', '3rd_choice']].tolist() for _, row in students_df.iterrows()} # iterrows() loop through each row\n",
    "project_prefs = {row['project_name']: row[['1st_choice', '2nd_choice', '3rd_choice', '4th_choice', '5th_choice']].dropna().tolist() for _, row in projects_df.iterrows()}"
   ],
   "metadata": {
    "collapsed": false,
    "ExecuteTime": {
     "end_time": "2024-02-25T22:31:26.678070Z",
     "start_time": "2024-02-25T22:31:26.661844Z"
    }
   },
   "id": "dad8c512d7cfe66",
   "execution_count": 6
  },
  {
   "cell_type": "code",
   "outputs": [
    {
     "name": "stdout",
     "output_type": "stream",
     "text": [
      "s1 is matched with p3\n",
      "s2 is matched with p1\n",
      "s3 is matched with p2\n",
      "s4 is matched with p3\n",
      "s5 is matched with p1\n",
      "s6 is matched with p3\n",
      "s7 is matched with p2\n",
      "s8 is matched with p1\n",
      "s9 is matched with p2\n"
     ]
    }
   ],
   "source": [
    "# Matching algorithm:\n",
    "\n",
    "# Initialize matching and availability:\n",
    "# 'matches' maps students to their assigned projects\n",
    "# 'project_assignments' maps projects to lists of assigned students\n",
    "matches = {}  \n",
    "project_assignments = defaultdict(list) # for now default value is an empty list\n",
    "\n",
    "# The matching algorithm iteratively assigns students to projects based on preferences and capacity\n",
    "# This should ensure that every student is matched with a project according to their preferences as far as possible:\n",
    "while len(matches) < len(students):\n",
    "    for student in students:\n",
    "        if student not in matches:\n",
    "            for project in student_prefs[student]:\n",
    "                # Check if the project can accept more students\n",
    "                if len(project_assignments[project]) < project_capacity[project]:\n",
    "                    # If yes, assign the student to the project\n",
    "                    matches[student] = project\n",
    "                    project_assignments[project].append(student)\n",
    "                    break\n",
    "                else:\n",
    "                    \n",
    "                    # Handling over-subscription\n",
    "                    # If the project is full, check if the new student is preferred over current assignees:\n",
    "                    current_assignees = project_assignments[project]\n",
    "                    all_prefs = project_prefs[project] + [student]  # Include the new student for comparison\n",
    "                    # Determine the preferred assignees based on project preferences\n",
    "                    preferred_assignees = sorted(current_assignees, key=lambda x: all_prefs.index(x))[:project_capacity[project]]\n",
    "                    \n",
    "                    if student in preferred_assignees:\n",
    "                        # If the new student is preferred, replace the least preferred assigned student\n",
    "                        to_remove = [s for s in current_assignees if s not in preferred_assignees][0]\n",
    "                        project_assignments[project].remove(to_remove)\n",
    "                        del matches[to_remove]  # Remove the least preferred student from matches\n",
    "                        project_assignments[project].append(student)\n",
    "                        matches[student] = project\n",
    "                        break\n",
    "\n",
    "# Print the final student-project matches.\n",
    "for student, project in matches.items():\n",
    "    print(f\"{student} is matched with {project}\")"
   ],
   "metadata": {
    "collapsed": false,
    "ExecuteTime": {
     "end_time": "2024-02-25T22:31:34.348274Z",
     "start_time": "2024-02-25T22:31:34.343781Z"
    }
   },
   "id": "40cd12d72269e11f",
   "execution_count": 8
  },
  {
   "cell_type": "markdown",
   "source": [
    "This code should ensure that:   \n",
    "- Every student is matched with a project according to their preferences as far as possible.\n",
    "- Projects do not exceed their capacity.\n",
    "- The matching is stable, meaning there are no two pairs (student, project) where both would prefer each other over their current assignment."
   ],
   "metadata": {
    "collapsed": false
   },
   "id": "49d6295d47da7233"
  },
  {
   "cell_type": "markdown",
   "source": [
    "This version now considers project capacities and, when an project is over-subscribed, consider the project's preference to potentially replace a currently matched student with a more preferred one. "
   ],
   "metadata": {
    "collapsed": false
   },
   "id": "8af4150ad047e471"
  }
 ],
 "metadata": {
  "kernelspec": {
   "display_name": "Python 3",
   "language": "python",
   "name": "python3"
  },
  "language_info": {
   "codemirror_mode": {
    "name": "ipython",
    "version": 2
   },
   "file_extension": ".py",
   "mimetype": "text/x-python",
   "name": "python",
   "nbconvert_exporter": "python",
   "pygments_lexer": "ipython2",
   "version": "2.7.6"
  }
 },
 "nbformat": 4,
 "nbformat_minor": 5
}
