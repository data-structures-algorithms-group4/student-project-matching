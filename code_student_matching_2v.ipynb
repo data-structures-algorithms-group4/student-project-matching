{
 "cells": [
  {
   "cell_type": "markdown",
   "source": [
    "## Stable Matching Algorithm\n",
    "Remember: stable matching mechanism ensures that no pair of student and project would prefer each other over their current matches.  \n"
   ],
   "metadata": {
    "collapsed": false
   },
   "id": "b14861e97be25f1b"
  },
  {
   "cell_type": "code",
   "execution_count": 3,
   "id": "initial_id",
   "metadata": {
    "collapsed": true,
    "ExecuteTime": {
     "end_time": "2024-02-29T08:10:49.619937Z",
     "start_time": "2024-02-29T08:10:47.098042Z"
    }
   },
   "outputs": [],
   "source": [
    "import pandas as pd\n",
    "from collections import defaultdict"
   ]
  },
  {
   "cell_type": "code",
   "outputs": [],
   "source": [
    "### Preparation\n",
    "\n",
    "# Load the student and project data from Excel files\n",
    "students_df = pd.read_excel('test_data/td_1_students.xlsx')\n",
    "projects_df = pd.read_excel('test_data/td_1_projects.xlsx')\n",
    "\n",
    "# Extract lists of students and projects\n",
    "students = students_df['student_names'].tolist()\n",
    "projects = projects_df['project_name'].tolist()\n",
    "\n",
    "# Map each project to its capacity\n",
    "project_capacity = projects_df.set_index('project_name')['max_students'].to_dict()\n",
    "\n",
    "# Initialize dictionaries for student and project preferences\n",
    "student_prefs = {}\n",
    "project_prefs = {}\n",
    "\n",
    "# Extract student preferences\n",
    "for _, row in students_df.iterrows():\n",
    "    student_prefs[row['student_names']] = row[1:].dropna().tolist()\n",
    "\n",
    "# Extract project preferences\n",
    "for _, row in projects_df.iterrows():\n",
    "    # Assuming the first two columns are 'project_name' and 'max_students'\n",
    "    project_prefs[row['project_name']] = row[2:].dropna().tolist()"
   ],
   "metadata": {
    "collapsed": false,
    "ExecuteTime": {
     "end_time": "2024-02-29T08:23:40.050496Z",
     "start_time": "2024-02-29T08:23:40.038321Z"
    }
   },
   "id": "dad8c512d7cfe66",
   "execution_count": 23
  },
  {
   "cell_type": "markdown",
   "source": [
    "### Preparation chunk:\n",
    "- Load data, extract names of students and projects into lists and define project capacities\n",
    "- Initialize dictionaries to store student and project preferences\n",
    "- Loop extracting student and project preferences from the Excel files, ignoring NAs and skipping the first column (assumed to be a name or an ID)"
   ],
   "metadata": {
    "collapsed": false
   },
   "id": "1a148e88c651c98b"
  },
  {
   "cell_type": "code",
   "outputs": [
    {
     "name": "stdout",
     "output_type": "stream",
     "text": [
      "s1 is matched with p3\n",
      "s2 is matched with p2\n",
      "s5 is matched with p1\n",
      "s6 is matched with p3\n",
      "s7 is matched with p3\n",
      "s8 is matched with p1\n",
      "s9 is matched with p2\n",
      "s3 is matched with p1\n",
      "s4 is matched with p2\n"
     ]
    }
   ],
   "source": [
    "### Matching algorithm\n",
    "\n",
    "# Initialize matching and availability:\n",
    "matches = {} # maps each student to their assigned project\n",
    "project_assignments = defaultdict(list) # keys are project names and values are lists of students assigned to each project: dinamically updated\n",
    "\n",
    "# Iteratively assign students to projects based on preferences and capacity\n",
    "while len(matches) < len(students):\n",
    "    for student in students: # loop continues until all students have been assigned to a project\n",
    "        if student not in matches: # iterates over each student who hasn't been matched yet\n",
    "            for project in student_prefs[student]: # goes through each student's project preferences in order from most preferred to least preferred\n",
    "                if len(project_assignments[project]) < project_capacity[project] and student in project_prefs[project]: # check capacities and preferences\n",
    "                    matches[student] = project\n",
    "                    project_assignments[project].append(student)\n",
    "                    break\n",
    "                else:\n",
    "                    # Handling over-subscription with bidirectional preference consideration\n",
    "                    # At capactiy: evaluates if the new student could be more preferred compared to current assignees\n",
    "                    if student in project_prefs[project]:\n",
    "                        current_assignees = project_assignments[project]\n",
    "                        # Include the new student for comparison while respecting project preferences\n",
    "                        all_prefs = [s for s in project_prefs[project] if s in current_assignees + [student]]\n",
    "                        preferred_assignees = sorted(current_assignees + [student], key=lambda x: all_prefs.index(x))[:project_capacity[project]] # ChatGPT suggestion\n",
    "                        \n",
    "                        if student in preferred_assignees: # if the new student is more preferred than the current assignees, adjust\n",
    "                            new_assignees = preferred_assignees\n",
    "                            for s in current_assignees:\n",
    "                                if s not in new_assignees:\n",
    "                                    project_assignments[project].remove(s)\n",
    "                                    del matches[s]\n",
    "                            if student not in project_assignments[project]:\n",
    "                                project_assignments[project].append(student) # update assignments\n",
    "                                matches[student] = project\n",
    "                            break\n",
    "\n",
    "# Print the final student-project matches\n",
    "for student, project in matches.items():\n",
    "    print(f\"{student} is matched with {project}\")"
   ],
   "metadata": {
    "collapsed": false,
    "ExecuteTime": {
     "end_time": "2024-02-29T08:23:30.782098Z",
     "start_time": "2024-02-29T08:23:30.777219Z"
    }
   },
   "id": "40cd12d72269e11f",
   "execution_count": 22
  },
  {
   "cell_type": "markdown",
   "source": [],
   "metadata": {
    "collapsed": false
   },
   "id": "49d6295d47da7233"
  },
  {
   "cell_type": "markdown",
   "source": [
    "### Matching algorithm chunk:\n",
    "Initial Setup:\n",
    "- `matches`: A dictionary that will map each student to their assigned project.\n",
    "- `project_assignments`: A `defaultdict(list) where keys are project names, and values are dynamically updated lists of students assign´d to each project.\n",
    "\n",
    "Iterative Assignment Process:\n",
    "- Continue Until All Are Matched: The algorithm runs until every student is matched with a project (`while len(matches) < len(students`)).\n",
    "- Iterate Over Unmatched Students: For each student not yet assigned to a project (`if student not in matches`), the algorithm:\n",
    "- Respect Student Preferences: It iterates through the student's project preferences in their order of preference, from most to least preferred (`for project in student_prefs[student]`).\n",
    "- Check Project Capacity and Preferences: Before assigning a student to a project, it checks if the project still has capacity (`len(project_assignments[project]) < project_capacity[project]`) and if the student is among the project's preferences (`student in project_prefs[project]`).\n",
    "- Assign Student to Project: If conditions are met, the student is assigned to the project, and both matches and project_assignments are updated accordingly.\n",
    "\n",
    "Handle Over-Subscription:\n",
    "- If a project is at capacity, the algorithm evaluates if the new student could be more preferred compared to current assignees, considering the project's preference list.\n",
    "- It includes the new student for comparison alongside current assignees and identifies who the project would prefer most within its capacity limit.\n",
    "- If the new student is more preferred, adjustments are made: less preferred students are removed from the project assignment, and the new student is added.\n",
    "\n",
    "Output:\n",
    "- Print final assignments"
   ],
   "metadata": {
    "collapsed": false
   },
   "id": "23aab595ba833a75"
  },
  {
   "cell_type": "code",
   "outputs": [],
   "source": [],
   "metadata": {
    "collapsed": false
   },
   "id": "ffbef0c18487b4ef"
  }
 ],
 "metadata": {
  "kernelspec": {
   "display_name": "Python 3",
   "language": "python",
   "name": "python3"
  },
  "language_info": {
   "codemirror_mode": {
    "name": "ipython",
    "version": 2
   },
   "file_extension": ".py",
   "mimetype": "text/x-python",
   "name": "python",
   "nbconvert_exporter": "python",
   "pygments_lexer": "ipython2",
   "version": "2.7.6"
  }
 },
 "nbformat": 4,
 "nbformat_minor": 5
}
