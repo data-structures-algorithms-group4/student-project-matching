{
 "cells": [
  {
   "cell_type": "code",
   "execution_count": null,
   "metadata": {},
   "outputs": [],
   "source": [
    "import random\n",
    "\n",
    "# Define the project names, student choices, and maximum student capacities\n",
    "project_names = ['p{}'.format(i) for i in range(1, 201)]  # Exclude p13\n",
    "max_students = [random.randint(1, 5) for _ in range(200)]\n",
    "students = ['s{}'.format(i) for i in range(1, 201)]\n",
    "\n",
    "# Generate student preference data\n",
    "student_data = [('student_name', '1st_choice', '2nd_choice', '3rd_choice')]\n",
    "for student in students:\n",
    "    project_choices = random.sample(project_names, 3)  # Randomly sample 3 projects\n",
    "    student_data.append((student,) + tuple(project_choices))\n",
    "\n",
    "# Define the project data with student choices\n",
    "project_data = [('project_name', 'max_students') + tuple(f'student_choice_{i+1}' for i in range(5))]\n",
    "for project_name, max_student in zip(project_names, max_students):\n",
    "    students_copy = students[:]  # Make a copy of students list to avoid modifying the original list\n",
    "    random.shuffle(students_copy)  # Shuffle student list to represent random choices\n",
    "    chosen_students = random.sample(students_copy, max_student)  # Take max_student random students as choices\n",
    "    chosen_students.extend([''] * (5 - len(chosen_students)))  # Fill remaining columns with empty strings\n",
    "    project_data.append((project_name, max_student) + tuple(chosen_students))\n",
    "\n",
    "# Ensure that at least one choice from the first dataset matches a project in the second dataset\n",
    "for row in student_data[1:]:\n",
    "    student = row[0]\n",
    "    first_choice = row[1]\n",
    "    for project_row in project_data[1:]:\n",
    "        if project_row[0] == first_choice:\n",
    "            project_row_index = project_data.index(project_row)\n",
    "            project_data[project_row_index] = (project_row[0], project_row[1]) + (student,) + project_row[3:]\n",
    "            break\n",
    "\n",
    "# Print the generated data\n",
    "for row in student_data:\n",
    "    print(row)\n",
    "\n",
    "for row in project_data:\n",
    "    print(row)"
   ]
  }
 ],
 "metadata": {
  "kernelspec": {
   "display_name": "DSA",
   "language": "python",
   "name": "python3"
  },
  "language_info": {
   "name": "python",
   "version": "3.11.7"
  }
 },
 "nbformat": 4,
 "nbformat_minor": 2
}
